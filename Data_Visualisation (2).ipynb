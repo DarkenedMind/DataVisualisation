{
 "cells": [
  {
   "cell_type": "code",
   "execution_count": null,
   "id": "fe652e84-faef-4d0c-923c-f0b7111a8a7a",
   "metadata": {
    "tags": []
   },
   "outputs": [
    {
     "name": "stdout",
     "output_type": "stream",
     "text": [
      "\n",
      "                  __    __    __    __\n",
      "                 /  \\  /  \\  /  \\  /  \\\n",
      "                /    \\/    \\/    \\/    \\\n",
      "███████████████/  /██/  /██/  /██/  /████████████████████████\n",
      "              /  / \\   / \\   / \\   / \\  \\____\n",
      "             /  /   \\_/   \\_/   \\_/   \\    o \\__,\n",
      "            / _/                       \\_____/  `\n",
      "            |/\n",
      "        ███╗   ███╗ █████╗ ███╗   ███╗██████╗  █████╗\n",
      "        ████╗ ████║██╔══██╗████╗ ████║██╔══██╗██╔══██╗\n",
      "        ██╔████╔██║███████║██╔████╔██║██████╔╝███████║\n",
      "        ██║╚██╔╝██║██╔══██║██║╚██╔╝██║██╔══██╗██╔══██║\n",
      "        ██║ ╚═╝ ██║██║  ██║██║ ╚═╝ ██║██████╔╝██║  ██║\n",
      "        ╚═╝     ╚═╝╚═╝  ╚═╝╚═╝     ╚═╝╚═════╝ ╚═╝  ╚═╝\n",
      "\n",
      "        mamba (0.15.3) supported by @QuantStack\n",
      "\n",
      "        GitHub:  https://github.com/mamba-org/mamba\n",
      "        Twitter: https://twitter.com/QuantStack\n",
      "\n",
      "█████████████████████████████████████████████████████████████\n",
      "\n",
      "\n",
      "Looking for: ['pandas==1.3.3']\n",
      "\n",
      "pkgs/main/noarch         [<=>                 ] (00m:00s) \n",
      "pkgs/main/noarch         [=>               ] (00m:00s) 56 KB / ?? (367.79 KB/s)\n",
      "pkgs/main/noarch         [=>               ] (00m:00s) 56 KB / ?? (367.79 KB/s)\n",
      "pkgs/r/noarch            [>                   ] (--:--) Finalizing...\n",
      "pkgs/main/noarch         [=>               ] (00m:00s) 56 KB / ?? (367.79 KB/s)\n",
      "pkgs/r/noarch            [>                   ] (--:--) Done\n",
      "pkgs/r/noarch            [====================] (00m:00s) Done\n",
      "pkgs/main/noarch         [=>               ] (00m:00s) 56 KB / ?? (367.79 KB/s)\n",
      "pkgs/main/noarch         [<=>                 ] (00m:00s) Finalizing...\n",
      "pkgs/main/noarch         [<=>                 ] (00m:00s) Done\n",
      "pkgs/main/noarch         [====================] (00m:00s) Done\n",
      "pkgs/main/linux-64       [<=>                 ] (00m:00s) \n",
      "pkgs/main/linux-64       [=>                ] (00m:00s) 388 KB / ?? (1.21 MB/s)\n",
      "pkgs/main/linux-64       [=>                ] (00m:00s) 388 KB / ?? (1.21 MB/s)\n",
      "pkgs/r/linux-64          [<=>                 ] (00m:00s) \n",
      "pkgs/main/linux-64       [=>                ] (00m:00s) 388 KB / ?? (1.21 MB/s)\n",
      "pkgs/r/linux-64          [=>                ] (00m:00s) 708 KB / ?? (2.21 MB/s)\n",
      "pkgs/main/linux-64       [=>                ] (00m:00s) 388 KB / ?? (1.21 MB/s)\n",
      "pkgs/r/linux-64          [<=>                 ] (00m:00s) Finalizing...\n",
      "pkgs/main/linux-64       [=>                ] (00m:00s) 388 KB / ?? (1.21 MB/s)\n",
      "pkgs/r/linux-64          [<=>                 ] (00m:00s) Done\n",
      "pkgs/r/linux-64          [====================] (00m:00s) Done\n",
      "pkgs/main/linux-64       [=>                ] (00m:00s) 388 KB / ?? (1.21 MB/s)\n",
      "pkgs/main/linux-64       [<=>               ] (00m:00s) 388 KB / ?? (1.21 MB/s)\n",
      "pkgs/main/linux-64       [<=>               ] (00m:00s) 884 KB / ?? (1.86 MB/s)\n",
      "pkgs/main/linux-64       [ <=>              ] (00m:00s) 884 KB / ?? (1.86 MB/s)\n",
      "pkgs/main/linux-64       [  <=>               ] (00m:00s) 1 MB / ?? (2.13 MB/s)\n",
      "pkgs/main/linux-64       [   <=>              ] (00m:00s) 1 MB / ?? (2.13 MB/s)\n",
      "pkgs/main/linux-64       [   <=>              ] (00m:00s) 2 MB / ?? (2.30 MB/s)\n",
      "pkgs/main/linux-64       [    <=>             ] (00m:00s) 2 MB / ?? (2.30 MB/s)\n",
      "pkgs/main/linux-64       [    <=>             ] (00m:00s) 2 MB / ?? (2.38 MB/s)\n",
      "pkgs/main/linux-64       [     <=>            ] (00m:00s) 2 MB / ?? (2.38 MB/s)\n",
      "pkgs/main/linux-64       [     <=>            ] (00m:00s) 3 MB / ?? (2.42 MB/s)\n",
      "pkgs/main/linux-64       [      <=>           ] (00m:00s) 3 MB / ?? (2.42 MB/s)\n",
      "pkgs/main/linux-64       [      <=>           ] (00m:00s) 3 MB / ?? (2.48 MB/s)\n",
      "pkgs/main/linux-64       [       <=>          ] (00m:01s) 3 MB / ?? (2.48 MB/s)\n",
      "pkgs/main/linux-64       [       <=>          ] (00m:01s) 4 MB / ?? (2.54 MB/s)\n",
      "pkgs/main/linux-64       [        <=>         ] (00m:01s) 4 MB / ?? (2.54 MB/s)\n",
      "pkgs/main/linux-64       [        <=>         ] (00m:01s) 4 MB / ?? (2.58 MB/s)\n",
      "pkgs/main/linux-64       [        <=>         ] (00m:01s) Finalizing...\n",
      "pkgs/main/linux-64       [        <=>         ] (00m:01s) Done\n",
      "pkgs/main/linux-64       [====================] (00m:01s) Done\n",
      "\n",
      "Pinned packages:\n",
      "  - python 3.7.*\n",
      "\n",
      "\n",
      "Transaction\n",
      "\n",
      "  Prefix: /home/jupyterlab/conda/envs/python\n",
      "\n",
      "  Updating specs:\n",
      "\n",
      "   - pandas==1.3.3\n",
      "   - ca-certificates\n",
      "   - certifi\n",
      "   - openssl\n",
      "\n",
      "\n",
      "  Package              Version  Build           Channel                  Size\n",
      "───────────────────────────────────────────────────────────────────────────────\n",
      "  Install:\n",
      "───────────────────────────────────────────────────────────────────────────────\n",
      "\n",
      "\u001b[32m  + bottleneck     \u001b[00m      1.3.2  py37heb32a55_1  pkgs/main/linux-64     125 KB\n",
      "\u001b[32m  + mkl-service    \u001b[00m      2.4.0  py37h7f8727e_0  pkgs/main/linux-64      56 KB\n",
      "\u001b[32m  + numexpr        \u001b[00m      2.8.1  py37h6abb31d_0  pkgs/main/linux-64     123 KB\n",
      "\n",
      "  Change:\n",
      "───────────────────────────────────────────────────────────────────────────────\n",
      "\n",
      "\u001b[31m  - certifi        \u001b[00m  2021.10.8  py37h89c1867_1  installed                    \n",
      "\u001b[32m  + certifi        \u001b[00m  2021.10.8  py37h06a4308_2  pkgs/main/linux-64     151 KB\n",
      "\n",
      "  Upgrade:\n",
      "───────────────────────────────────────────────────────────────────────────────\n",
      "\n",
      "\u001b[31m  - ca-certificates\u001b[00m  2021.10.8  ha878542_0      installed                    \n",
      "\u001b[32m  + ca-certificates\u001b[00m   2022.2.1  h06a4308_0      pkgs/main/linux-64     122 KB\n",
      "\u001b[31m  - openssl        \u001b[00m     1.1.1l  h7f98852_0      installed                    \n",
      "\u001b[32m  + openssl        \u001b[00m     1.1.1m  h7f8727e_0      pkgs/main/linux-64       3 MB\n",
      "\n",
      "  Downgrade:\n",
      "───────────────────────────────────────────────────────────────────────────────\n",
      "\n",
      "\u001b[31m  - blas           \u001b[00m      2.112  mkl             installed                    \n",
      "\u001b[32m  + blas           \u001b[00m        1.0  mkl             pkgs/main/linux-64       6 KB\n",
      "\u001b[31m  - pandas         \u001b[00m      1.3.4  py37he8f5f7f_1  installed                    \n",
      "\u001b[32m  + pandas         \u001b[00m      1.3.3  py37h8c16a72_0  pkgs/main/linux-64       9 MB\n",
      "\n",
      "  Summary:\n",
      "\n",
      "  Install: 3 packages\n",
      "  Change: 1 packages\n",
      "  Upgrade: 2 packages\n",
      "  Downgrade: 2 packages\n",
      "\n",
      "  Total download: 12 MB\n",
      "\n",
      "───────────────────────────────────────────────────────────────────────────────\n",
      "\n",
      "Confirm changes: [Y/n] ^C\n",
      "Download interrupted\n",
      "\u001b[31mERROR   \u001b[00mDownload didn't finish!\n",
      "\n",
      "                  __    __    __    __\n",
      "                 /  \\  /  \\  /  \\  /  \\\n",
      "                /    \\/    \\/    \\/    \\\n",
      "███████████████/  /██/  /██/  /██/  /████████████████████████\n",
      "              /  / \\   / \\   / \\   / \\  \\____\n",
      "             /  /   \\_/   \\_/   \\_/   \\    o \\__,\n",
      "            / _/                       \\_____/  `\n",
      "            |/\n",
      "        ███╗   ███╗ █████╗ ███╗   ███╗██████╗  █████╗\n",
      "        ████╗ ████║██╔══██╗████╗ ████║██╔══██╗██╔══██╗\n",
      "        ██╔████╔██║███████║██╔████╔██║██████╔╝███████║\n",
      "        ██║╚██╔╝██║██╔══██║██║╚██╔╝██║██╔══██╗██╔══██║\n",
      "        ██║ ╚═╝ ██║██║  ██║██║ ╚═╝ ██║██████╔╝██║  ██║\n",
      "        ╚═╝     ╚═╝╚═╝  ╚═╝╚═╝     ╚═╝╚═════╝ ╚═╝  ╚═╝\n",
      "\n",
      "        mamba (0.15.3) supported by @QuantStack\n",
      "\n",
      "        GitHub:  https://github.com/mamba-org/mamba\n",
      "        Twitter: https://twitter.com/QuantStack\n",
      "\n",
      "█████████████████████████████████████████████████████████████\n",
      "\n"
     ]
    }
   ],
   "source": [
    "! mamba install pandas==1.3.3\n",
    "! mamba install numpy=1.21.2\n",
    "! mamba install scipy=1.7.1-y\n",
    "!  mamba install seaborn=0.11.2-y\n",
    "!  mamba install matplotlib=3.4.3-y\n",
    "!  mamba install statsmodels=0.12.0-y"
   ]
  },
  {
   "cell_type": "markdown",
   "id": "c4cec804-1175-43fe-9cb1-b5579e070dfe",
   "metadata": {
    "tags": []
   },
   "source": [
    "# Final Assignment"
   ]
  },
  {
   "cell_type": "markdown",
   "id": "ffe47ea3-c685-403e-b620-7dbc48dd62e3",
   "metadata": {},
   "source": [
    "## Statistics For Data Science With Python"
   ]
  },
  {
   "cell_type": "code",
   "execution_count": 2,
   "id": "2a4af868-d589-4c0c-93e6-72da6f0182db",
   "metadata": {
    "tags": []
   },
   "outputs": [],
   "source": [
    "import numpy as np\n",
    "import pandas as pd\n",
    "import seaborn as sns\n",
    "import matplotlib.pyplot as plt\n",
    "import scipy.stats\n",
    "from scipy.stats import f_oneway as F\n",
    "from scipy.stats import levene as L\n",
    "from scipy.stats import pearsonr as PR\n",
    "from scipy.stats import ttest_ind as TT\n",
    "import statsmodels.api as SM\n",
    "import warnings\n",
    "warnings.filterwarnings('ignore')"
   ]
  },
  {
   "cell_type": "code",
   "execution_count": 3,
   "id": "8354ae51-3360-4e2a-9117-1a3795e2a195",
   "metadata": {},
   "outputs": [],
   "source": [
    "boston_url = 'https://cf-courses-data.s3.us.cloud-object-storage.appdomain.cloud/IBMDeveloperSkillsNetwork-ST0151EN-SkillsNetwork/labs/boston_housing.csv'\n",
    "boston_df=pd.read_csv(boston_url)"
   ]
  },
  {
   "cell_type": "markdown",
   "id": "6a035415-f866-4515-b228-b00f71be511b",
   "metadata": {},
   "source": [
    "**Displaying Information About Dataset**"
   ]
  },
  {
   "cell_type": "code",
   "execution_count": 4,
   "id": "b8755f0f-c355-44bf-ab92-732ab44ce0b8",
   "metadata": {},
   "outputs": [
    {
     "name": "stdout",
     "output_type": "stream",
     "text": [
      "     Unnamed: 0     CRIM    ZN  INDUS  CHAS    NOX     RM   AGE     DIS  RAD  \\\n",
      "0             0  0.00632  18.0   2.31   0.0  0.538  6.575  65.2  4.0900  1.0   \n",
      "1             1  0.02731   0.0   7.07   0.0  0.469  6.421  78.9  4.9671  2.0   \n",
      "2             2  0.02729   0.0   7.07   0.0  0.469  7.185  61.1  4.9671  2.0   \n",
      "3             3  0.03237   0.0   2.18   0.0  0.458  6.998  45.8  6.0622  3.0   \n",
      "4             4  0.06905   0.0   2.18   0.0  0.458  7.147  54.2  6.0622  3.0   \n",
      "..          ...      ...   ...    ...   ...    ...    ...   ...     ...  ...   \n",
      "501         501  0.06263   0.0  11.93   0.0  0.573  6.593  69.1  2.4786  1.0   \n",
      "502         502  0.04527   0.0  11.93   0.0  0.573  6.120  76.7  2.2875  1.0   \n",
      "503         503  0.06076   0.0  11.93   0.0  0.573  6.976  91.0  2.1675  1.0   \n",
      "504         504  0.10959   0.0  11.93   0.0  0.573  6.794  89.3  2.3889  1.0   \n",
      "505         505  0.04741   0.0  11.93   0.0  0.573  6.030  80.8  2.5050  1.0   \n",
      "\n",
      "       TAX  PTRATIO  LSTAT  MEDV  \n",
      "0    296.0     15.3   4.98  24.0  \n",
      "1    242.0     17.8   9.14  21.6  \n",
      "2    242.0     17.8   4.03  34.7  \n",
      "3    222.0     18.7   2.94  33.4  \n",
      "4    222.0     18.7   5.33  36.2  \n",
      "..     ...      ...    ...   ...  \n",
      "501  273.0     21.0   9.67  22.4  \n",
      "502  273.0     21.0   9.08  20.6  \n",
      "503  273.0     21.0   5.64  23.9  \n",
      "504  273.0     21.0   6.48  22.0  \n",
      "505  273.0     21.0   7.88  11.9  \n",
      "\n",
      "[506 rows x 14 columns]\n"
     ]
    }
   ],
   "source": [
    "print(boston_df)"
   ]
  },
  {
   "cell_type": "code",
   "execution_count": 5,
   "id": "21ec7de7-1476-46f9-badc-31793a07f8cb",
   "metadata": {},
   "outputs": [
    {
     "name": "stdout",
     "output_type": "stream",
     "text": [
      "<class 'pandas.core.frame.DataFrame'>\n",
      "RangeIndex: 506 entries, 0 to 505\n",
      "Data columns (total 14 columns):\n",
      " #   Column      Non-Null Count  Dtype  \n",
      "---  ------      --------------  -----  \n",
      " 0   Unnamed: 0  506 non-null    int64  \n",
      " 1   CRIM        506 non-null    float64\n",
      " 2   ZN          506 non-null    float64\n",
      " 3   INDUS       506 non-null    float64\n",
      " 4   CHAS        506 non-null    float64\n",
      " 5   NOX         506 non-null    float64\n",
      " 6   RM          506 non-null    float64\n",
      " 7   AGE         506 non-null    float64\n",
      " 8   DIS         506 non-null    float64\n",
      " 9   RAD         506 non-null    float64\n",
      " 10  TAX         506 non-null    float64\n",
      " 11  PTRATIO     506 non-null    float64\n",
      " 12  LSTAT       506 non-null    float64\n",
      " 13  MEDV        506 non-null    float64\n",
      "dtypes: float64(13), int64(1)\n",
      "memory usage: 55.5 KB\n"
     ]
    }
   ],
   "source": [
    "boston_df.info()"
   ]
  },
  {
   "cell_type": "code",
   "execution_count": 6,
   "id": "b3cb5ddc-e1a7-4274-af0a-2254e51bb4de",
   "metadata": {},
   "outputs": [
    {
     "data": {
      "text/html": [
       "<div>\n",
       "<style scoped>\n",
       "    .dataframe tbody tr th:only-of-type {\n",
       "        vertical-align: middle;\n",
       "    }\n",
       "\n",
       "    .dataframe tbody tr th {\n",
       "        vertical-align: top;\n",
       "    }\n",
       "\n",
       "    .dataframe thead th {\n",
       "        text-align: right;\n",
       "    }\n",
       "</style>\n",
       "<table border=\"1\" class=\"dataframe\">\n",
       "  <thead>\n",
       "    <tr style=\"text-align: right;\">\n",
       "      <th></th>\n",
       "      <th>Unnamed: 0</th>\n",
       "      <th>CRIM</th>\n",
       "      <th>ZN</th>\n",
       "      <th>INDUS</th>\n",
       "      <th>CHAS</th>\n",
       "      <th>NOX</th>\n",
       "      <th>RM</th>\n",
       "      <th>AGE</th>\n",
       "      <th>DIS</th>\n",
       "      <th>RAD</th>\n",
       "      <th>TAX</th>\n",
       "      <th>PTRATIO</th>\n",
       "      <th>LSTAT</th>\n",
       "      <th>MEDV</th>\n",
       "    </tr>\n",
       "  </thead>\n",
       "  <tbody>\n",
       "    <tr>\n",
       "      <th>count</th>\n",
       "      <td>506.000000</td>\n",
       "      <td>506.000000</td>\n",
       "      <td>506.000000</td>\n",
       "      <td>506.000000</td>\n",
       "      <td>506.000000</td>\n",
       "      <td>506.000000</td>\n",
       "      <td>506.000000</td>\n",
       "      <td>506.000000</td>\n",
       "      <td>506.000000</td>\n",
       "      <td>506.000000</td>\n",
       "      <td>506.000000</td>\n",
       "      <td>506.000000</td>\n",
       "      <td>506.000000</td>\n",
       "      <td>506.000000</td>\n",
       "    </tr>\n",
       "    <tr>\n",
       "      <th>mean</th>\n",
       "      <td>252.500000</td>\n",
       "      <td>3.613524</td>\n",
       "      <td>11.363636</td>\n",
       "      <td>11.136779</td>\n",
       "      <td>0.069170</td>\n",
       "      <td>0.554695</td>\n",
       "      <td>6.284634</td>\n",
       "      <td>68.574901</td>\n",
       "      <td>3.795043</td>\n",
       "      <td>9.549407</td>\n",
       "      <td>408.237154</td>\n",
       "      <td>18.455534</td>\n",
       "      <td>12.653063</td>\n",
       "      <td>22.532806</td>\n",
       "    </tr>\n",
       "    <tr>\n",
       "      <th>std</th>\n",
       "      <td>146.213884</td>\n",
       "      <td>8.601545</td>\n",
       "      <td>23.322453</td>\n",
       "      <td>6.860353</td>\n",
       "      <td>0.253994</td>\n",
       "      <td>0.115878</td>\n",
       "      <td>0.702617</td>\n",
       "      <td>28.148861</td>\n",
       "      <td>2.105710</td>\n",
       "      <td>8.707259</td>\n",
       "      <td>168.537116</td>\n",
       "      <td>2.164946</td>\n",
       "      <td>7.141062</td>\n",
       "      <td>9.197104</td>\n",
       "    </tr>\n",
       "    <tr>\n",
       "      <th>min</th>\n",
       "      <td>0.000000</td>\n",
       "      <td>0.006320</td>\n",
       "      <td>0.000000</td>\n",
       "      <td>0.460000</td>\n",
       "      <td>0.000000</td>\n",
       "      <td>0.385000</td>\n",
       "      <td>3.561000</td>\n",
       "      <td>2.900000</td>\n",
       "      <td>1.129600</td>\n",
       "      <td>1.000000</td>\n",
       "      <td>187.000000</td>\n",
       "      <td>12.600000</td>\n",
       "      <td>1.730000</td>\n",
       "      <td>5.000000</td>\n",
       "    </tr>\n",
       "    <tr>\n",
       "      <th>25%</th>\n",
       "      <td>126.250000</td>\n",
       "      <td>0.082045</td>\n",
       "      <td>0.000000</td>\n",
       "      <td>5.190000</td>\n",
       "      <td>0.000000</td>\n",
       "      <td>0.449000</td>\n",
       "      <td>5.885500</td>\n",
       "      <td>45.025000</td>\n",
       "      <td>2.100175</td>\n",
       "      <td>4.000000</td>\n",
       "      <td>279.000000</td>\n",
       "      <td>17.400000</td>\n",
       "      <td>6.950000</td>\n",
       "      <td>17.025000</td>\n",
       "    </tr>\n",
       "    <tr>\n",
       "      <th>50%</th>\n",
       "      <td>252.500000</td>\n",
       "      <td>0.256510</td>\n",
       "      <td>0.000000</td>\n",
       "      <td>9.690000</td>\n",
       "      <td>0.000000</td>\n",
       "      <td>0.538000</td>\n",
       "      <td>6.208500</td>\n",
       "      <td>77.500000</td>\n",
       "      <td>3.207450</td>\n",
       "      <td>5.000000</td>\n",
       "      <td>330.000000</td>\n",
       "      <td>19.050000</td>\n",
       "      <td>11.360000</td>\n",
       "      <td>21.200000</td>\n",
       "    </tr>\n",
       "    <tr>\n",
       "      <th>75%</th>\n",
       "      <td>378.750000</td>\n",
       "      <td>3.677083</td>\n",
       "      <td>12.500000</td>\n",
       "      <td>18.100000</td>\n",
       "      <td>0.000000</td>\n",
       "      <td>0.624000</td>\n",
       "      <td>6.623500</td>\n",
       "      <td>94.075000</td>\n",
       "      <td>5.188425</td>\n",
       "      <td>24.000000</td>\n",
       "      <td>666.000000</td>\n",
       "      <td>20.200000</td>\n",
       "      <td>16.955000</td>\n",
       "      <td>25.000000</td>\n",
       "    </tr>\n",
       "    <tr>\n",
       "      <th>max</th>\n",
       "      <td>505.000000</td>\n",
       "      <td>88.976200</td>\n",
       "      <td>100.000000</td>\n",
       "      <td>27.740000</td>\n",
       "      <td>1.000000</td>\n",
       "      <td>0.871000</td>\n",
       "      <td>8.780000</td>\n",
       "      <td>100.000000</td>\n",
       "      <td>12.126500</td>\n",
       "      <td>24.000000</td>\n",
       "      <td>711.000000</td>\n",
       "      <td>22.000000</td>\n",
       "      <td>37.970000</td>\n",
       "      <td>50.000000</td>\n",
       "    </tr>\n",
       "  </tbody>\n",
       "</table>\n",
       "</div>"
      ],
      "text/plain": [
       "       Unnamed: 0        CRIM          ZN       INDUS        CHAS         NOX  \\\n",
       "count  506.000000  506.000000  506.000000  506.000000  506.000000  506.000000   \n",
       "mean   252.500000    3.613524   11.363636   11.136779    0.069170    0.554695   \n",
       "std    146.213884    8.601545   23.322453    6.860353    0.253994    0.115878   \n",
       "min      0.000000    0.006320    0.000000    0.460000    0.000000    0.385000   \n",
       "25%    126.250000    0.082045    0.000000    5.190000    0.000000    0.449000   \n",
       "50%    252.500000    0.256510    0.000000    9.690000    0.000000    0.538000   \n",
       "75%    378.750000    3.677083   12.500000   18.100000    0.000000    0.624000   \n",
       "max    505.000000   88.976200  100.000000   27.740000    1.000000    0.871000   \n",
       "\n",
       "               RM         AGE         DIS         RAD         TAX     PTRATIO  \\\n",
       "count  506.000000  506.000000  506.000000  506.000000  506.000000  506.000000   \n",
       "mean     6.284634   68.574901    3.795043    9.549407  408.237154   18.455534   \n",
       "std      0.702617   28.148861    2.105710    8.707259  168.537116    2.164946   \n",
       "min      3.561000    2.900000    1.129600    1.000000  187.000000   12.600000   \n",
       "25%      5.885500   45.025000    2.100175    4.000000  279.000000   17.400000   \n",
       "50%      6.208500   77.500000    3.207450    5.000000  330.000000   19.050000   \n",
       "75%      6.623500   94.075000    5.188425   24.000000  666.000000   20.200000   \n",
       "max      8.780000  100.000000   12.126500   24.000000  711.000000   22.000000   \n",
       "\n",
       "            LSTAT        MEDV  \n",
       "count  506.000000  506.000000  \n",
       "mean    12.653063   22.532806  \n",
       "std      7.141062    9.197104  \n",
       "min      1.730000    5.000000  \n",
       "25%      6.950000   17.025000  \n",
       "50%     11.360000   21.200000  \n",
       "75%     16.955000   25.000000  \n",
       "max     37.970000   50.000000  "
      ]
     },
     "execution_count": 6,
     "metadata": {},
     "output_type": "execute_result"
    }
   ],
   "source": [
    "boston_df.describe()"
   ]
  },
  {
   "cell_type": "markdown",
   "id": "5576e0af-bdd7-4613-b77c-d218c0075fd8",
   "metadata": {},
   "source": [
    "# Task 4: Generate Descriptive Statistics and Visualizations"
   ]
  },
  {
   "cell_type": "markdown",
   "id": "5f2daa29-e84b-4c11-94b0-d5234519a257",
   "metadata": {},
   "source": [
    "## Is there a significant difference in median value of houses bounded by the Charles river or not? (T-test for independent samples)"
   ]
  },
  {
   "cell_type": "code",
   "execution_count": 4,
   "id": "dc680f3f-9383-4016-9c19-24f7563b4009",
   "metadata": {},
   "outputs": [
    {
     "data": {
      "image/png": "[encoded data removed]",
      "text/plain": [
       "<Figure size 1080x504 with 1 Axes>"
      ]
     },
     "metadata": {},
     "output_type": "display_data"
    }
   ],
   "source": [
    "sns.set_style(\"darkgrid\")\n",
    "\n",
    "fig, ax = plt.subplots(1, 1, figsize = (15, 7))\n",
    "\n",
    "sns.boxplot(x = boston_df['MEDV']*1000,\n",
    "            color = '#FDE725')\n",
    "\n",
    "#Title setup.\n",
    "ax.set_title('Distribution of Median House Value', fontsize = 24)\n",
    "\n",
    "#X-axis setup.\n",
    "ax.set_xlabel(\"Median Value of Home\", fontsize = 22)\n",
    "\n",
    "ax.tick_params(axis = 'both', which = 'major', labelsize = 14, rotation = 25)\n"
   ]
  },
  {
   "cell_type": "code",
   "execution_count": 7,
   "id": "579dc87d-213a-4e0c-9b24-bf0d6f239277",
   "metadata": {
    "tags": []
   },
   "outputs": [
    {
     "data": {
      "image/png": "[encoded data removed]",
      "text/plain": [
       "<Figure size 360x360 with 1 Axes>"
      ]
     },
     "metadata": {},
     "output_type": "display_data"
    }
   ],
   "source": [
    "# styling of the plot\n",
    "sns.set(style=\"whitegrid\", palette=\"husl\", rc={'figure.figsize':(11.7,8.27)})\n",
    "\n",
    "\n",
    "sns.catplot(x='CHAS', kind=\"count\", data=boston_df)\n",
    "\n",
    "# plot title\n",
    "title=\"Charles River Distribution\"\n",
    "\n",
    "# increasing font size\n",
    "plt.title(title, fontsize=16)\n",
    "plt.xlabel(\"1 if tract bounds river; 0 otherwise\")\n",
    "plt.show()"
   ]
  },
  {
   "cell_type": "markdown",
   "id": "2ae014b4-5984-4f8c-a24d-c14f1f103bef",
   "metadata": {},
   "source": [
    "## (to the Task 5) Answering the question"
   ]
  },
  {
   "cell_type": "code",
   "execution_count": 63,
   "id": "d86ab23a-4e93-4dda-a271-d1508fcdff3e",
   "metadata": {
    "tags": []
   },
   "outputs": [
    {
     "data": {
      "text/plain": [
       "Ttest_indResult(statistic=3.996437466090509, pvalue=7.390623170519905e-05)"
      ]
     },
     "execution_count": 63,
     "metadata": {},
     "output_type": "execute_result"
    }
   ],
   "source": [
    "TT(boston_df[boston_df['CHAS'] == 1]['MEDV'],\n",
    "   boston_df[boston_df['CHAS'] == 0]['MEDV'],\n",
    "   equal_var = 'FALSE')"
   ]
  },
  {
   "cell_type": "markdown",
   "id": "5655c11d-d718-48bb-b87e-ca5bcad5a46c",
   "metadata": {
    "tags": []
   },
   "source": [
    "### Conclusion: It appears the P-Value is less than the α value of 0.05. We can therefore reject the null hypothesis as there is a statistical difference in median value of houses bounded by the Charles river."
   ]
  },
  {
   "cell_type": "markdown",
   "id": "8caed898-1a1d-4a8a-831a-4281df8ccb81",
   "metadata": {},
   "source": [
    "<br>"
   ]
  },
  {
   "cell_type": "markdown",
   "id": "ef62d3e4-6eb6-4ee3-84a9-d6ad6c41bcc3",
   "metadata": {
    "tags": []
   },
   "source": [
    "## Is there a difference in Median values of houses (MEDV) for each proportion of owner occupied units built prior to 1940 (AGE)? (ANOVA)"
   ]
  },
  {
   "cell_type": "code",
   "execution_count": 8,
   "id": "b14c05af-a8db-40a6-9ef1-59143c027b53",
   "metadata": {},
   "outputs": [
    {
     "data": {
      "text/html": [
       "<div>\n",
       "<style scoped>\n",
       "    .dataframe tbody tr th:only-of-type {\n",
       "        vertical-align: middle;\n",
       "    }\n",
       "\n",
       "    .dataframe tbody tr th {\n",
       "        vertical-align: top;\n",
       "    }\n",
       "\n",
       "    .dataframe thead th {\n",
       "        text-align: right;\n",
       "    }\n",
       "</style>\n",
       "<table border=\"1\" class=\"dataframe\">\n",
       "  <thead>\n",
       "    <tr style=\"text-align: right;\">\n",
       "      <th></th>\n",
       "      <th>MEDV</th>\n",
       "      <th>AGE</th>\n",
       "      <th>AGE GROUPS</th>\n",
       "    </tr>\n",
       "  </thead>\n",
       "  <tbody>\n",
       "    <tr>\n",
       "      <th>0</th>\n",
       "      <td>24.0</td>\n",
       "      <td>65.2</td>\n",
       "      <td>Between 35 and 70</td>\n",
       "    </tr>\n",
       "    <tr>\n",
       "      <th>1</th>\n",
       "      <td>21.6</td>\n",
       "      <td>78.9</td>\n",
       "      <td>70 And Older</td>\n",
       "    </tr>\n",
       "    <tr>\n",
       "      <th>2</th>\n",
       "      <td>34.7</td>\n",
       "      <td>61.1</td>\n",
       "      <td>Between 35 and 70</td>\n",
       "    </tr>\n",
       "    <tr>\n",
       "      <th>3</th>\n",
       "      <td>33.4</td>\n",
       "      <td>45.8</td>\n",
       "      <td>Between 35 and 70</td>\n",
       "    </tr>\n",
       "    <tr>\n",
       "      <th>4</th>\n",
       "      <td>36.2</td>\n",
       "      <td>54.2</td>\n",
       "      <td>Between 35 and 70</td>\n",
       "    </tr>\n",
       "  </tbody>\n",
       "</table>\n",
       "</div>"
      ],
      "text/plain": [
       "   MEDV   AGE         AGE GROUPS\n",
       "0  24.0  65.2  Between 35 and 70\n",
       "1  21.6  78.9       70 And Older\n",
       "2  34.7  61.1  Between 35 and 70\n",
       "3  33.4  45.8  Between 35 and 70\n",
       "4  36.2  54.2  Between 35 and 70"
      ]
     },
     "execution_count": 8,
     "metadata": {},
     "output_type": "execute_result"
    }
   ],
   "source": [
    "#Provide a boxplot for the MEDV variable vs the AGE variable. \n",
    "#(Discretize the age variable into three groups of 35 years and younger, between 35 and 70 years and 70 years and older)\n",
    "medv_age_df = boston_df[['MEDV', 'AGE']]\n",
    "medv_age_df.loc[(medv_age_df[\"AGE\"] <= 35),'AGE GROUPS'] = '35 And Younger'\n",
    "medv_age_df.loc[(medv_age_df[\"AGE\"] > 35) & (medv_age_df[\"AGE\"]<70),'AGE GROUPS'] = 'Between 35 and 70'\n",
    "medv_age_df.loc[(medv_age_df[\"AGE\"] >= 70),'AGE GROUPS'] = '70 And Older'\n",
    "medv_age_df.head()"
   ]
  },
  {
   "cell_type": "code",
   "execution_count": 10,
   "id": "9a45d289-d404-4017-bfc4-1a2838b13c06",
   "metadata": {},
   "outputs": [
    {
     "data": {
      "text/plain": [
       "Text(0.5, 1.0, 'Distribution of MEDV Values by Age Groups')"
      ]
     },
     "execution_count": 10,
     "metadata": {},
     "output_type": "execute_result"
    },
    {
     "data": {
      "image/png": "[encoded data removed]",
      "text/plain": [
       "<Figure size 842.4x595.44 with 1 Axes>"
      ]
     },
     "metadata": {},
     "output_type": "display_data"
    }
   ],
   "source": [
    "sns.boxplot(x='AGE GROUPS', y='MEDV', data=medv_age_df)\n",
    "plt.title(\"Distribution of MEDV Values by Age Groups\")"
   ]
  },
  {
   "cell_type": "markdown",
   "id": "4fa743cc-338f-46b3-88c8-9d81040f7463",
   "metadata": {},
   "source": [
    "## (to the Task 5) Answering the question"
   ]
  },
  {
   "cell_type": "code",
   "execution_count": 11,
   "id": "118da405-d8ba-4ef3-9106-b419a42d5528",
   "metadata": {},
   "outputs": [
    {
     "name": "stdout",
     "output_type": "stream",
     "text": [
      "F_Statistic: 36.40764999196599, P-Value: 1.7105011022702984e-15\n"
     ]
    }
   ],
   "source": [
    "proportion1 = medv_age_df[medv_age_df['AGE GROUPS'] == \"35 And Younger\"]['MEDV']\n",
    "proportion2 = medv_age_df[medv_age_df['AGE GROUPS'] == \"Between 35 and 70\"]['MEDV']\n",
    "proportion3 = medv_age_df[medv_age_df['AGE GROUPS'] == \"70 And Older\"]['MEDV']\n",
    "f_statistic, p_value = scipy.stats.f_oneway(proportion1, proportion2, proportion3)\n",
    "print(\"F_Statistic: {0}, P-Value: {1}\".format(f_statistic,p_value))"
   ]
  },
  {
   "cell_type": "markdown",
   "id": "c448d894-6da3-4a43-9ab1-87761a0860de",
   "metadata": {
    "tags": []
   },
   "source": [
    "### Conclusion: It appears the P-Value is less than the α value of 0.05. We can therefore reject the null hypothesis as there is a statistical difference in median values of houses (MEDV) for each proportion of owner occupied units built prior to 1940 (AGE)"
   ]
  },
  {
   "cell_type": "markdown",
   "id": "88467bad-957f-41c1-baef-faf6b7fc4ed9",
   "metadata": {},
   "source": [
    "<br>"
   ]
  },
  {
   "cell_type": "markdown",
   "id": "ac77da8f-2624-4ad8-8b4c-487c18b8073a",
   "metadata": {},
   "source": [
    "**Can we conclude that there is no relationship between Nitric oxide concentrations and proportion of non-retail business acres per town? (Pearson Correlation)**"
   ]
  },
  {
   "cell_type": "code",
   "execution_count": 17,
   "id": "b1cb1edc-4528-460e-9121-b870b2367103",
   "metadata": {
    "tags": []
   },
   "outputs": [
    {
     "data": {
      "image/png": "[encoded data removed]",
      "text/plain": [
       "<Figure size 1080x540 with 1 Axes>"
      ]
     },
     "metadata": {},
     "output_type": "display_data"
    }
   ],
   "source": [
    "fig, ax = plt.subplots(1, 1, figsize = (15, 7.5))\n",
    "\n",
    "sns.scatterplot(x = boston_df['NOX'],\n",
    "                y = boston_df['INDUS'],\n",
    "                s = 75,\n",
    "                color = '#404788')\n",
    "\n",
    "#Title setup.\n",
    "ax.set_title('Nitric Oxide Concentrations vs Proportion of Non-Retail Business Acres', fontsize = 24)\n",
    "\n",
    "#X-axis setup.\n",
    "ax.set_xlabel(\"Nitric Oxide Concentration (ppm)\", fontsize = 22)\n",
    "#Y-axis setup.\n",
    "ax.set_ylabel(\"% of Non-Retail Business Acres\", fontsize = 22)\n",
    "\n",
    "ax.tick_params(axis = 'both', which = 'major', labelsize = 14)"
   ]
  },
  {
   "cell_type": "markdown",
   "id": "75e4499c-aa28-4e08-a732-8f524a6446c5",
   "metadata": {},
   "source": [
    "## (to the Task 5) Answering the question"
   ]
  },
  {
   "cell_type": "code",
   "execution_count": 18,
   "id": "d3729a0b-347e-4e34-ba52-eed0e2fbca8c",
   "metadata": {},
   "outputs": [
    {
     "data": {
      "text/plain": [
       "(0.7636514469209149, 7.913361061240043e-98)"
      ]
     },
     "execution_count": 18,
     "metadata": {},
     "output_type": "execute_result"
    }
   ],
   "source": [
    "PR(boston_df['NOX'],\n",
    "   boston_df['INDUS'])"
   ]
  },
  {
   "cell_type": "markdown",
   "id": "f2ccf22d-38e8-4036-b132-fb5ece6c79bd",
   "metadata": {},
   "source": [
    "### Conclusion: Since in this case the P-value is very small and < α = 0.05, we can conclude that there is a correlation between Nitric oxide concentration and proportion of non-retail business acres per town."
   ]
  },
  {
   "cell_type": "markdown",
   "id": "a8f14264-67d5-4279-8969-18181853f2ae",
   "metadata": {},
   "source": [
    "<br>"
   ]
  },
  {
   "cell_type": "markdown",
   "id": "83bb4b4b-59a4-4059-858a-9d845051d2b5",
   "metadata": {},
   "source": [
    "## Create a histogram for the pupil to teacher ratio variable"
   ]
  },
  {
   "cell_type": "code",
   "execution_count": 16,
   "id": "ed9487ca-d8ee-4f0e-acd1-9bb4b9eb8a3e",
   "metadata": {},
   "outputs": [
    {
     "data": {
      "image/png": "[encoded data removed]",
      "text/plain": [
       "<Figure size 1080x540 with 1 Axes>"
      ]
     },
     "metadata": {},
     "output_type": "display_data"
    }
   ],
   "source": [
    "fig, ax = plt.subplots(1, 1, figsize = (15, 7.5))\n",
    "\n",
    "plt.hist(x = 'PTRATIO',\n",
    "             data=boston_df,\n",
    "             color = '#238A8D')\n",
    "             \n",
    "\n",
    "#Title setup.\n",
    "ax.set_title('Distribution of Pupil to Teacher Ratio', fontsize = 24)\n",
    "\n",
    "#X-axis setup.\n",
    "ax.set_xlabel(\"Pupil to Teacher Ratio\", fontsize = 22)\n",
    "#Y-axis setup.\n",
    "ax.set_ylabel(\"Count\", fontsize = 22)\n",
    "\n",
    "ax.tick_params(axis = 'both', which = 'major', labelsize = 14)"
   ]
  },
  {
   "cell_type": "markdown",
   "id": "29760e26-b2ed-4954-baf2-56c5aef1e3aa",
   "metadata": {},
   "source": [
    "### NOTE: Histogram is visible on Jupyter Notebook but somehow diappears when uploaded to GitHub. Please, be understndable."
   ]
  },
  {
   "cell_type": "markdown",
   "id": "6fa6bbe5-6249-40bc-a352-699abb288ec8",
   "metadata": {},
   "source": [
    "<br>"
   ]
  },
  {
   "cell_type": "markdown",
   "id": "deb5d442-68c3-4a38-a571-d1ff326e441f",
   "metadata": {},
   "source": [
    "## Last one for Task 5"
   ]
  },
  {
   "cell_type": "markdown",
   "id": "1e1f8db4-4355-4b21-9c65-1e49325870e4",
   "metadata": {},
   "source": [
    "**What is the impact of an additional weighted distance  to the five Boston employment centres on the median value of owner occupied homes? (Regression analysis)**"
   ]
  },
  {
   "cell_type": "code",
   "execution_count": 22,
   "id": "98c99448-eeaf-418e-b95d-66dc8b59a478",
   "metadata": {},
   "outputs": [
    {
     "name": "stderr",
     "output_type": "stream",
     "text": [
      "/home/jupyterlab/conda/envs/python/lib/python3.7/site-packages/statsmodels/tsa/tsatools.py:142: FutureWarning: In a future version of pandas all arguments of concat except for the argument 'objs' will be keyword-only\n",
      "  x = pd.concat(x[::order], 1)\n"
     ]
    },
    {
     "data": {
      "text/html": [
       "<table class=\"simpletable\">\n",
       "<caption>OLS Regression Results</caption>\n",
       "<tr>\n",
       "  <th>Dep. Variable:</th>          <td>MEDV</td>       <th>  R-squared:         </th> <td>   0.062</td> \n",
       "</tr>\n",
       "<tr>\n",
       "  <th>Model:</th>                   <td>OLS</td>       <th>  Adj. R-squared:    </th> <td>   0.061</td> \n",
       "</tr>\n",
       "<tr>\n",
       "  <th>Method:</th>             <td>Least Squares</td>  <th>  F-statistic:       </th> <td>   33.58</td> \n",
       "</tr>\n",
       "<tr>\n",
       "  <th>Date:</th>             <td>Fri, 04 Mar 2022</td> <th>  Prob (F-statistic):</th> <td>1.21e-08</td> \n",
       "</tr>\n",
       "<tr>\n",
       "  <th>Time:</th>                 <td>11:55:26</td>     <th>  Log-Likelihood:    </th> <td> -5319.2</td> \n",
       "</tr>\n",
       "<tr>\n",
       "  <th>No. Observations:</th>      <td>   506</td>      <th>  AIC:               </th> <td>1.064e+04</td>\n",
       "</tr>\n",
       "<tr>\n",
       "  <th>Df Residuals:</th>          <td>   504</td>      <th>  BIC:               </th> <td>1.065e+04</td>\n",
       "</tr>\n",
       "<tr>\n",
       "  <th>Df Model:</th>              <td>     1</td>      <th>                     </th>     <td> </td>    \n",
       "</tr>\n",
       "<tr>\n",
       "  <th>Covariance Type:</th>      <td>nonrobust</td>    <th>                     </th>     <td> </td>    \n",
       "</tr>\n",
       "</table>\n",
       "<table class=\"simpletable\">\n",
       "<tr>\n",
       "    <td></td>       <th>coef</th>     <th>std err</th>      <th>t</th>      <th>P>|t|</th>  <th>[0.025</th>    <th>0.975]</th>  \n",
       "</tr>\n",
       "<tr>\n",
       "  <th>const</th> <td> 1.839e+04</td> <td>  817.389</td> <td>   22.499</td> <td> 0.000</td> <td> 1.68e+04</td> <td>    2e+04</td>\n",
       "</tr>\n",
       "<tr>\n",
       "  <th>DIS</th>   <td> 1091.6130</td> <td>  188.378</td> <td>    5.795</td> <td> 0.000</td> <td>  721.509</td> <td> 1461.717</td>\n",
       "</tr>\n",
       "</table>\n",
       "<table class=\"simpletable\">\n",
       "<tr>\n",
       "  <th>Omnibus:</th>       <td>139.779</td> <th>  Durbin-Watson:     </th> <td>   0.570</td>\n",
       "</tr>\n",
       "<tr>\n",
       "  <th>Prob(Omnibus):</th> <td> 0.000</td>  <th>  Jarque-Bera (JB):  </th> <td> 305.104</td>\n",
       "</tr>\n",
       "<tr>\n",
       "  <th>Skew:</th>          <td> 1.466</td>  <th>  Prob(JB):          </th> <td>5.59e-67</td>\n",
       "</tr>\n",
       "<tr>\n",
       "  <th>Kurtosis:</th>      <td> 5.424</td>  <th>  Cond. No.          </th> <td>    9.32</td>\n",
       "</tr>\n",
       "</table><br/><br/>Notes:<br/>[1] Standard Errors assume that the covariance matrix of the errors is correctly specified."
      ],
      "text/plain": [
       "<class 'statsmodels.iolib.summary.Summary'>\n",
       "\"\"\"\n",
       "                            OLS Regression Results                            \n",
       "==============================================================================\n",
       "Dep. Variable:                   MEDV   R-squared:                       0.062\n",
       "Model:                            OLS   Adj. R-squared:                  0.061\n",
       "Method:                 Least Squares   F-statistic:                     33.58\n",
       "Date:                Fri, 04 Mar 2022   Prob (F-statistic):           1.21e-08\n",
       "Time:                        11:55:26   Log-Likelihood:                -5319.2\n",
       "No. Observations:                 506   AIC:                         1.064e+04\n",
       "Df Residuals:                     504   BIC:                         1.065e+04\n",
       "Df Model:                           1                                         \n",
       "Covariance Type:            nonrobust                                         \n",
       "==============================================================================\n",
       "                 coef    std err          t      P>|t|      [0.025      0.975]\n",
       "------------------------------------------------------------------------------\n",
       "const       1.839e+04    817.389     22.499      0.000    1.68e+04       2e+04\n",
       "DIS         1091.6130    188.378      5.795      0.000     721.509    1461.717\n",
       "==============================================================================\n",
       "Omnibus:                      139.779   Durbin-Watson:                   0.570\n",
       "Prob(Omnibus):                  0.000   Jarque-Bera (JB):              305.104\n",
       "Skew:                           1.466   Prob(JB):                     5.59e-67\n",
       "Kurtosis:                       5.424   Cond. No.                         9.32\n",
       "==============================================================================\n",
       "\n",
       "Notes:\n",
       "[1] Standard Errors assume that the covariance matrix of the errors is correctly specified.\n",
       "\"\"\""
      ]
     },
     "execution_count": 22,
     "metadata": {},
     "output_type": "execute_result"
    }
   ],
   "source": [
    "X = boston_df['DIS']\n",
    "y = boston_df['MEDV']*1000\n",
    "X = SM.add_constant(X)\n",
    "\n",
    "model = SM.OLS(y,X).fit()\n",
    "pred = model.predict(X)\n",
    "\n",
    "model.summary()"
   ]
  },
  {
   "cell_type": "markdown",
   "id": "9efeedc1-a048-46b5-862c-1e69415873f6",
   "metadata": {},
   "source": [
    "### As we already know, the value for the Pearson Correlation is the square root of the value  R2 ."
   ]
  },
  {
   "cell_type": "markdown",
   "id": "87a2414f-012f-4bc6-aa19-1a86744e48af",
   "metadata": {},
   "source": [
    "#### 0.24899799195977465  is a positive value closer to 0 than 1. Therefore there is a weak positive correlation between the additional weighted distance to the five Boston employment centres on and the median value of owner occupied homes."
   ]
  },
  {
   "cell_type": "markdown",
   "id": "beef148e-12c8-40fe-90b2-cf2c69c391fd",
   "metadata": {},
   "source": [
    "<br>"
   ]
  },
  {
   "cell_type": "markdown",
   "id": "df23764b-018f-4415-8dfe-1801d0673112",
   "metadata": {},
   "source": [
    "# THE END"
   ]
  },
  {
   "cell_type": "code",
   "execution_count": null,
   "id": "e450751b-e8d2-4a5c-8197-c1b614662141",
   "metadata": {},
   "outputs": [],
   "source": []
  }
 ],
 "metadata": {
  "kernelspec": {
   "display_name": "Python",
   "language": "python",
   "name": "conda-env-python-py"
  },
  "language_info": {
   "codemirror_mode": {
    "name": "ipython",
    "version": 3
   },
   "file_extension": ".py",
   "mimetype": "text/x-python",
   "name": "python",
   "nbconvert_exporter": "python",
   "pygments_lexer": "ipython3",
   "version": "3.7.12"
  }
 },
 "nbformat": 4,
 "nbformat_minor": 5
}
